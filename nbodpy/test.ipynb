{
 "cells": [
  {
   "cell_type": "code",
   "execution_count": 2,
   "metadata": {},
   "outputs": [],
   "source": [
    "import numpy as np\n",
    "from itertools import product\n",
    "import pandas as pd\n",
    "from numba import jit\n",
    "import matplotlib.pyplot as plt\n",
    "from particle_creation import *\n",
    "from mass_asign import *\n",
    "from grav_potential import *\n",
    "from acceleration import *"
   ]
  },
  {
   "cell_type": "code",
   "execution_count": 48,
   "metadata": {},
   "outputs": [],
   "source": [
    "ng = 16\n",
    "num_par = 2\n",
    "\n",
    "pars_pos = (np.random.rand(num_par, 2)*ng).astype(np.float32)\n",
    "pars_vel = (np.random.rand(num_par, 2)).astype(np.float32)\n",
    "# pars_mass = np.random.rand(num_par).astype(np.float32)*100\n",
    "pars_mass = np.ones_like(pars_pos[:,0]).astype(np.float32)\n",
    "\n",
    "# pars_pos = np.array([[8.1,11.1],[8.1,10.1]]).astype(np.float32)\n",
    "# pars_vel = np.array([[10,0],[0,0]]).astype(np.float32)\n",
    "# # pars_mass = np.ones_like(pars_pos[:,0]).astype(np.float32)\n",
    "# pars_mass = np.array((0.00001,1)).astype(np.float32)\n",
    "\n",
    "# pars_df = pd.DataFrame({'pos_y': pars_pos[:,0], 'pos_x': pars_pos[:,1],\n",
    "#                         'vel_y': pars_vel[:,0], 'vel_x': pars_vel[:,1],\n",
    "#                         'mass': pars_mass})\n",
    "pars_df = pd.DataFrame({'pos_x': pars_pos[:,0], 'pos_y': pars_pos[:,1],\n",
    "                        'vel_x': pars_vel[:,0], 'vel_y': pars_vel[:,1],\n",
    "                        'mass': pars_mass, 'id': np.arange(num_par)})\n",
    "\n",
    "# Info array: (num_par, 5)\n",
    "# Position_x, Position_y, Velocity_x, Velocity_y, Mass\n",
    "pars_info = pars_df.loc[:, ['pos_x', 'pos_y', 'vel_x', 'vel_y', 'mass']].values\n",
    "par_list = par_create_2d(pars_df)"
   ]
  },
  {
   "cell_type": "code",
   "execution_count": null,
   "metadata": {},
   "outputs": [],
   "source": []
  },
  {
   "cell_type": "code",
   "execution_count": 49,
   "metadata": {},
   "outputs": [],
   "source": [
    "@jit(nopython=True) \n",
    "def cic_density_2d(pars_pos_mass, ng, h=1):\n",
    "    dens = np.zeros((ng, ng)) # initialize density field\n",
    "    pars_pos = pars_pos_mass[:,:2]\n",
    "    dens = np.zeros((ng, ng)) # initialize density field\n",
    "    pos_float = pars_pos/h - 0.5 # particle positions in float\n",
    "    pos_floor = np.floor(pos_float).astype(np.int16) # particle positions in int\n",
    "    pos_cel = pos_floor + 1 # ceiling of floating point index\n",
    "    pos_star = pos_float - pos_floor # distance from floor\n",
    "    for i in range(len(pars_pos)):\n",
    "        for idx_shift in np.array([[0, 0], [0, 1], [1, 0], [1, 1]]): # Density change: loop over 4 cells\n",
    "            rho_idx = pos_cel[i] - idx_shift\n",
    "            rho_idx[rho_idx == ng] = 0            \n",
    "            dens[rho_idx[0], rho_idx[1]] +=  [pos_star[i], 1-pos_star[i]][idx_shift[0]][0] * [pos_star[i], 1-pos_star[i]][idx_shift[1]][1] * pars_pos_mass[i,2]/ (h ** 2)\n",
    "    return dens"
   ]
  },
  {
   "cell_type": "code",
   "execution_count": 50,
   "metadata": {},
   "outputs": [],
   "source": [
    "pars_pos_mass = pars_info[:,[0,1,4]]\n",
    "dens = cic_density_2d(pars_pos_mass, ng, h=1)"
   ]
  },
  {
   "cell_type": "code",
   "execution_count": 51,
   "metadata": {},
   "outputs": [],
   "source": [
    "phi = grav_phi_2d(dens, h=1)"
   ]
  },
  {
   "cell_type": "code",
   "execution_count": 52,
   "metadata": {},
   "outputs": [
    {
     "data": {
      "text/plain": [
       "(16, 16)"
      ]
     },
     "execution_count": 52,
     "metadata": {},
     "output_type": "execute_result"
    }
   ],
   "source": [
    "phi.shape"
   ]
  },
  {
   "cell_type": "code",
   "execution_count": 54,
   "metadata": {},
   "outputs": [],
   "source": [
    "acc_x, acc_y = cic_acc_2d(par_list,phi, h=1)"
   ]
  },
  {
   "cell_type": "code",
   "execution_count": 63,
   "metadata": {},
   "outputs": [],
   "source": [
    "def acc_mesh(dens,h=1):\n",
    "    ng = phi.shape[0]\n",
    "    phi_pdc = np.pad(phi, pad_width=1,mode='wrap')\n",
    "    acc_x_pdc, acc_y_pdc = np.gradient(phi_pdc, 1, edge_order=1)\n",
    "    acc_x, acc_y= -1 * acc_x_pdc[1:-1, 1:-1], -1 * acc_y_pdc[1:-1, 1:-1]\n",
    "    return acc_x, acc_y\n",
    "@jit(nopython=True) \n",
    "def acc_par(pars_pos, acc_x, acc_y, h=1):\n",
    "    par_acc_x, par_acc_y = np.zeros(len(pars_pos)), np.zeros(len(pars_pos))\n",
    "    pos_float = pars_pos/h - 0.5 # particle positions in float\n",
    "    pos_floor = np.floor(pos_float).astype(np.int16) # particle positions in int\n",
    "    pos_cel = pos_floor + 1 # ceiling of floating point index\n",
    "    pos_star = pos_float - pos_floor # distance from floor\n",
    "    for i in range(len(pars_pos)):\n",
    "        for idx_shift in np.array([[0, 0], [0, 1], [1, 0], [1, 1]]): # Density change: loop over 4 cells\n",
    "            rho_idx = pos_cel[i] - idx_shift\n",
    "            rho_idx[rho_idx == ng] = 0    \n",
    "            par_acc_x[i] +=  [pos_star[i], 1-pos_star[i]][idx_shift[0]][0] * [pos_star[i], 1-pos_star[i]][idx_shift[1]][1] * acc_x[rho_idx[0], rho_idx[1]] * (h ** 2)\n",
    "            par_acc_y[i] +=  [pos_star[i], 1-pos_star[i]][idx_shift[0]][0] * [pos_star[i], 1-pos_star[i]][idx_shift[1]][1] * acc_y[rho_idx[0], rho_idx[1]] * (h ** 2)\n",
    "    return par_acc_x, par_acc_y"
   ]
  },
  {
   "cell_type": "code",
   "execution_count": 64,
   "metadata": {},
   "outputs": [],
   "source": [
    "acc_x, acc_y = acc_mesh(phi, h=1)\n",
    "par_acc_x, par_acc_y = acc_par(pars_info[:,[0,1]],acc_x, acc_y ,h=1)"
   ]
  },
  {
   "cell_type": "code",
   "execution_count": 69,
   "metadata": {},
   "outputs": [
    {
     "data": {
      "text/plain": [
       "(array([ 1.91058721e-16, -1.91058721e-16]),\n",
       " array([ 1.27167557e-15, -1.27167557e-15]))"
      ]
     },
     "execution_count": 69,
     "metadata": {},
     "output_type": "execute_result"
    }
   ],
   "source": [
    "par_acc_x,par_acc_y"
   ]
  },
  {
   "cell_type": "code",
   "execution_count": 71,
   "metadata": {},
   "outputs": [
    {
     "data": {
      "text/plain": [
       "array([[ 1.91058721e-16,  1.27167557e-15],\n",
       "       [-1.91058721e-16, -1.27167557e-15]])"
      ]
     },
     "execution_count": 71,
     "metadata": {},
     "output_type": "execute_result"
    }
   ],
   "source": [
    "np.array([par_acc_x, par_acc_y]).T"
   ]
  },
  {
   "cell_type": "code",
   "execution_count": null,
   "metadata": {},
   "outputs": [],
   "source": []
  },
  {
   "cell_type": "code",
   "execution_count": 67,
   "metadata": {},
   "outputs": [
    {
     "data": {
      "text/plain": [
       "array([1.91058721e-16, 1.27167557e-15])"
      ]
     },
     "execution_count": 67,
     "metadata": {},
     "output_type": "execute_result"
    }
   ],
   "source": [
    "par_list[0].acc"
   ]
  },
  {
   "cell_type": "code",
   "execution_count": 68,
   "metadata": {},
   "outputs": [
    {
     "data": {
      "text/plain": [
       "array([-1.91058721e-16, -1.27167557e-15])"
      ]
     },
     "execution_count": 68,
     "metadata": {},
     "output_type": "execute_result"
    }
   ],
   "source": [
    "par_list[1].acc"
   ]
  },
  {
   "cell_type": "code",
   "execution_count": null,
   "metadata": {},
   "outputs": [],
   "source": []
  }
 ],
 "metadata": {
  "kernelspec": {
   "display_name": "py311",
   "language": "python",
   "name": "python3"
  },
  "language_info": {
   "codemirror_mode": {
    "name": "ipython",
    "version": 3
   },
   "file_extension": ".py",
   "mimetype": "text/x-python",
   "name": "python",
   "nbconvert_exporter": "python",
   "pygments_lexer": "ipython3",
   "version": "3.11.4"
  },
  "orig_nbformat": 4
 },
 "nbformat": 4,
 "nbformat_minor": 2
}
