{
 "cells": [
  {
   "cell_type": "code",
   "execution_count": 1,
   "metadata": {},
   "outputs": [],
   "source": [
    "import numpy as np\n",
    "import pandas as pd\n",
    "import matplotlib.pyplot as plt\n",
    "import multiprocessing as mp\n",
    "from particle_creation import *\n",
    "from mass_asign import *\n",
    "from grav_potential import *\n",
    "from acceleration import *"
   ]
  },
  {
   "cell_type": "code",
   "execution_count": 17,
   "metadata": {},
   "outputs": [
    {
     "data": {
      "text/html": [
       "<div>\n",
       "<style scoped>\n",
       "    .dataframe tbody tr th:only-of-type {\n",
       "        vertical-align: middle;\n",
       "    }\n",
       "\n",
       "    .dataframe tbody tr th {\n",
       "        vertical-align: top;\n",
       "    }\n",
       "\n",
       "    .dataframe thead th {\n",
       "        text-align: right;\n",
       "    }\n",
       "</style>\n",
       "<table border=\"1\" class=\"dataframe\">\n",
       "  <thead>\n",
       "    <tr style=\"text-align: right;\">\n",
       "      <th></th>\n",
       "      <th>pos_x</th>\n",
       "      <th>pos_y</th>\n",
       "      <th>vel_x</th>\n",
       "      <th>vel_y</th>\n",
       "      <th>mass</th>\n",
       "      <th>id</th>\n",
       "    </tr>\n",
       "  </thead>\n",
       "  <tbody>\n",
       "    <tr>\n",
       "      <th>0</th>\n",
       "      <td>8.1</td>\n",
       "      <td>11.1</td>\n",
       "      <td>10.0</td>\n",
       "      <td>0.0</td>\n",
       "      <td>1.000000e-10</td>\n",
       "      <td>0</td>\n",
       "    </tr>\n",
       "    <tr>\n",
       "      <th>1</th>\n",
       "      <td>8.1</td>\n",
       "      <td>10.1</td>\n",
       "      <td>0.0</td>\n",
       "      <td>0.0</td>\n",
       "      <td>1.000000e+00</td>\n",
       "      <td>1</td>\n",
       "    </tr>\n",
       "  </tbody>\n",
       "</table>\n",
       "</div>"
      ],
      "text/plain": [
       "   pos_x  pos_y  vel_x  vel_y          mass  id\n",
       "0    8.1   11.1   10.0    0.0  1.000000e-10   0\n",
       "1    8.1   10.1    0.0    0.0  1.000000e+00   1"
      ]
     },
     "execution_count": 17,
     "metadata": {},
     "output_type": "execute_result"
    }
   ],
   "source": [
    "ng = 16\n",
    "num_par = 30\n",
    "\n",
    "# pars_pos = (np.random.rand(num_par, 2)*ng).astype(np.float32)\n",
    "# pars_vel = (np.random.rand(num_par, 2)).astype(np.float32)\n",
    "# # pars_mass = np.random.rand(num_par).astype(np.float32)*100\n",
    "# pars_mass = np.ones_like(pars_pos[:,0]).astype(np.float32)\n",
    "\n",
    "pars_pos = np.array([[8.1,11.1],[8.1,10.1]]).astype(np.float32)\n",
    "pars_vel = np.array([[10,0],[0,0]]).astype(np.float32)\n",
    "# pars_mass = np.ones_like(pars_pos[:,0]).astype(np.float32)\n",
    "pars_mass = np.array((1e-10,1)).astype(np.float32)\n",
    "\n",
    "# pars_df = pd.DataFrame({'pos_y': pars_pos[:,0], 'pos_x': pars_pos[:,1],\n",
    "#                         'vel_y': pars_vel[:,0], 'vel_x': pars_vel[:,1],\n",
    "#                         'mass': pars_mass})\n",
    "pars_df = pd.DataFrame({'pos_x': pars_pos[:,0], 'pos_y': pars_pos[:,1],\n",
    "                        'vel_x': pars_vel[:,0], 'vel_y': pars_vel[:,1],\n",
    "                        'mass': pars_mass,'id':np.arange(len(pars_pos))})\n",
    "par_list = par_create_2d(pars_df)\n",
    "pars_df.head()"
   ]
  },
  {
   "cell_type": "code",
   "execution_count": null,
   "metadata": {},
   "outputs": [],
   "source": []
  },
  {
   "cell_type": "code",
   "execution_count": 18,
   "metadata": {},
   "outputs": [
    {
     "data": {
      "image/png": "[encoded data removed]",
      "text/plain": [
       "<Figure size 500x500 with 1 Axes>"
      ]
     },
     "metadata": {},
     "output_type": "display_data"
    }
   ],
   "source": [
    "dt = 0.1\n",
    "# Define a colormap\n",
    "# cmap = plt.cm.get_cmap('viridis', 10) \n",
    "fig, ax = plt.subplots(1, 1, figsize=(5, 5))\n",
    "ax.set_ylim(0, ng)\n",
    "ax.set_xlim(0, ng)\n",
    "for step in range(100):\n",
    "     \n",
    "    for par in par_list:\n",
    "        # Fitrst step:\n",
    "        par.pos += par.vel * 0.5 * dt\n",
    "        # Boundary condition\n",
    "        par.periodic(ng)\n",
    "        \n",
    "    dens = cic_density_2d(pars=par_list, ng=ng, h=1) ## Update density field\n",
    "    phi = grav_phi_2d(dens,h=1)    ## Update gravity field\n",
    "    cic_acc_2d(pars=par_list, phi=phi, h=1)  ## Update acceleration\n",
    "    # Second step:\n",
    "    for par in par_list:\n",
    "        par.vel += par.acc * dt\n",
    "        par.pos += par.vel * 0.5 * dt\n",
    "        # Boundary condition\n",
    "        par.periodic(ng)\n",
    "    # Plot\n",
    "    \n",
    "    for par in par_list:\n",
    "        # color = cmap(par.id % 10) \n",
    "        im = ax.scatter(par.pos[0], par.pos[1], s=3)\n",
    "# Set the colorbar\n",
    "# norm = plt.Normalize(0, 9)  # Normalize the colormap to the range [0, 9]\n",
    "# sm = plt.cm.ScalarMappable(cmap=cmap, norm=norm)\n",
    "# sm.set_array([])\n",
    "# cbar = plt.colorbar(sm, ax=ax)\n",
    "# cbar.set_label('Particle ID')"
   ]
  },
  {
   "cell_type": "code",
   "execution_count": 20,
   "metadata": {},
   "outputs": [
    {
     "data": {
      "text/plain": [
       "array([ 8.1, 10.1], dtype=float32)"
      ]
     },
     "execution_count": 20,
     "metadata": {},
     "output_type": "execute_result"
    }
   ],
   "source": [
    "par.pos"
   ]
  },
  {
   "cell_type": "code",
   "execution_count": 24,
   "metadata": {},
   "outputs": [
    {
     "data": {
      "text/plain": [
       "array([78.43446418, 64.36216011])"
      ]
     },
     "execution_count": 24,
     "metadata": {},
     "output_type": "execute_result"
    }
   ],
   "source": [
    "par_list[0].acc"
   ]
  },
  {
   "cell_type": "code",
   "execution_count": 25,
   "metadata": {},
   "outputs": [
    {
     "data": {
      "text/plain": [
       "array([-7.84344323e-09, -6.43619913e-09])"
      ]
     },
     "execution_count": 25,
     "metadata": {},
     "output_type": "execute_result"
    }
   ],
   "source": [
    "par_list[1].acc"
   ]
  },
  {
   "cell_type": "code",
   "execution_count": null,
   "metadata": {},
   "outputs": [],
   "source": []
  },
  {
   "cell_type": "code",
   "execution_count": null,
   "metadata": {},
   "outputs": [],
   "source": []
  },
  {
   "cell_type": "code",
   "execution_count": null,
   "metadata": {},
   "outputs": [],
   "source": [
    "fig, axes = plt.subplots(1, 2, figsize=(12, 5))\n",
    "for ax in axes.flatten():\n",
    "    ax.set_xlim(0, ng)\n",
    "    ax.set_ylim(0, ng)\n",
    "im1 = axes[0].pcolormesh(acc_x)\n",
    "cb1 = plt.colorbar(im1)\n",
    "im2 = axes[1].pcolormesh(acc_x1)\n",
    "cb2 = plt.colorbar(im2)"
   ]
  },
  {
   "cell_type": "code",
   "execution_count": null,
   "metadata": {},
   "outputs": [],
   "source": []
  }
 ],
 "metadata": {
  "kernelspec": {
   "display_name": "py311",
   "language": "python",
   "name": "python3"
  },
  "language_info": {
   "codemirror_mode": {
    "name": "ipython",
    "version": 3
   },
   "file_extension": ".py",
   "mimetype": "text/x-python",
   "name": "python",
   "nbconvert_exporter": "python",
   "pygments_lexer": "ipython3",
   "version": "3.11.4"
  },
  "orig_nbformat": 4
 },
 "nbformat": 4,
 "nbformat_minor": 2
}
