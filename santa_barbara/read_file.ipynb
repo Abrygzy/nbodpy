{
 "cells": [
  {
   "cell_type": "code",
   "execution_count": 1,
   "metadata": {},
   "outputs": [],
   "source": [
    "import numpy as np\n",
    "import pandas as pd"
   ]
  },
  {
   "cell_type": "code",
   "execution_count": 2,
   "metadata": {},
   "outputs": [],
   "source": [
    "# https://web.archive.org/web/20130217114132/http://t8web.lanl.gov/people/heitmann/test3.html\n",
    "filename = '/Users/abry/data/Santa_Barbara/ic_sb128/particles_ic_sb128'\n",
    "data = np.fromfile(filename, dtype=np.float32)\n",
    "data = data.reshape(-1, 8)\n",
    "par_df = pd.DataFrame(columns=['pos_x','vel_x','pos_y','vel_y','pos_z','vel_z','mass','id'], data=data)\n",
    "box_size = 64\n",
    "# x[Mpc], v_x[km/s], y[Mpc], v_y[km/s], z[Mpc], v_z[km/s], particle mass[M_sol], particle tag"
   ]
  },
  {
   "cell_type": "code",
   "execution_count": 3,
   "metadata": {},
   "outputs": [
    {
     "data": {
      "text/plain": [
       "count    2.097152e+06\n",
       "mean     3.202919e+01\n",
       "std      1.846561e+01\n",
       "min      2.441406e-04\n",
       "25%      1.605934e+01\n",
       "50%      3.210469e+01\n",
       "75%      4.803034e+01\n",
       "max      6.399966e+01\n",
       "Name: pos_x, dtype: float64"
      ]
     },
     "execution_count": 3,
     "metadata": {},
     "output_type": "execute_result"
    }
   ],
   "source": [
    "par_df.pos_x.describe()"
   ]
  },
  {
   "cell_type": "code",
   "execution_count": null,
   "metadata": {},
   "outputs": [],
   "source": []
  },
  {
   "cell_type": "code",
   "execution_count": 4,
   "metadata": {},
   "outputs": [
    {
     "data": {
      "text/plain": [
       "count    2.097152e+06\n",
       "mean     3.202687e+01\n",
       "std      1.844656e+01\n",
       "min      7.820129e-05\n",
       "25%      1.609156e+01\n",
       "50%      3.212880e+01\n",
       "75%      4.805344e+01\n",
       "max      6.400000e+01\n",
       "Name: pos_y, dtype: float64"
      ]
     },
     "execution_count": 4,
     "metadata": {},
     "output_type": "execute_result"
    }
   ],
   "source": [
    "par_df.pos_y.describe()"
   ]
  },
  {
   "cell_type": "code",
   "execution_count": 5,
   "metadata": {},
   "outputs": [
    {
     "data": {
      "text/plain": [
       "count    2.097152e+06\n",
       "mean     3.200420e+01\n",
       "std      1.843025e+01\n",
       "min      2.079010e-04\n",
       "25%      1.613584e+01\n",
       "50%      3.195651e+01\n",
       "75%      4.796346e+01\n",
       "max      6.399936e+01\n",
       "Name: pos_z, dtype: float64"
      ]
     },
     "execution_count": 5,
     "metadata": {},
     "output_type": "execute_result"
    }
   ],
   "source": [
    "par_df.pos_z.describe()"
   ]
  },
  {
   "cell_type": "code",
   "execution_count": null,
   "metadata": {},
   "outputs": [],
   "source": []
  }
 ],
 "metadata": {
  "kernelspec": {
   "display_name": "py311",
   "language": "python",
   "name": "python3"
  },
  "language_info": {
   "codemirror_mode": {
    "name": "ipython",
    "version": 3
   },
   "file_extension": ".py",
   "mimetype": "text/x-python",
   "name": "python",
   "nbconvert_exporter": "python",
   "pygments_lexer": "ipython3",
   "version": "3.11.4"
  },
  "orig_nbformat": 4
 },
 "nbformat": 4,
 "nbformat_minor": 2
}
