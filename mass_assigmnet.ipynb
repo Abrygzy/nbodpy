{
 "cells": [
  {
   "cell_type": "code",
   "execution_count": 1,
   "metadata": {},
   "outputs": [],
   "source": [
    "import numpy as np\n",
    "import pandas as pd"
   ]
  },
  {
   "attachments": {},
   "cell_type": "markdown",
   "metadata": {},
   "source": [
    "# Particle Objects from Data"
   ]
  },
  {
   "cell_type": "code",
   "execution_count": 2,
   "metadata": {},
   "outputs": [],
   "source": [
    "class Particle:\n",
    "    def __init__(self, pos, vel, mass):\n",
    "        self.pos = pos\n",
    "        self.vel = vel\n",
    "        self.acc = np.zeros_like(pos)\n",
    "        self.mass = mass"
   ]
  },
  {
   "cell_type": "code",
   "execution_count": 3,
   "metadata": {},
   "outputs": [],
   "source": [
    "ng = 256\n",
    "pars_pos = np.random.rand(100,3).astype(np.float32) * ng\n",
    "pars_vel = np.random.rand(100,3).astype(np.float32)\n",
    "pars_mass = np.random.rand(100).astype(np.float32)\n",
    "pars_df = pd.DataFrame({'pos_x': pars_pos[:,0], 'pos_y': pars_pos[:,1], 'pos_z': pars_pos[:,2],\n",
    "                        'vel_x': pars_vel[:,0], 'vel_y': pars_vel[:,1], 'vel_z': pars_vel[:,2],\n",
    "                        'mass': pars_mass})"
   ]
  },
  {
   "cell_type": "code",
   "execution_count": 4,
   "metadata": {},
   "outputs": [],
   "source": [
    "pars_pos = pars_df.loc[:, ['pos_x', 'pos_y', 'pos_z']].values\n",
    "pars_vel = pars_df.loc[:, ['vel_x', 'vel_y', 'vel_z']].values\n",
    "pars_mass = pars_df.loc[:, 'mass'].values\n",
    "par_list = [Particle(pos, vel, mass) for pos, vel, mass in zip(pars_pos, pars_vel, pars_mass)]"
   ]
  },
  {
   "cell_type": "code",
   "execution_count": 5,
   "metadata": {},
   "outputs": [
    {
     "data": {
      "text/plain": [
       "255.17471313476562"
      ]
     },
     "execution_count": 5,
     "metadata": {},
     "output_type": "execute_result"
    }
   ],
   "source": [
    "pars_pos.max()-0.5"
   ]
  },
  {
   "cell_type": "code",
   "execution_count": null,
   "metadata": {},
   "outputs": [],
   "source": []
  },
  {
   "cell_type": "code",
   "execution_count": null,
   "metadata": {},
   "outputs": [],
   "source": []
  },
  {
   "attachments": {},
   "cell_type": "markdown",
   "metadata": {},
   "source": [
    "# Density Field from Particle Objects"
   ]
  },
  {
   "cell_type": "code",
   "execution_count": 9,
   "metadata": {},
   "outputs": [],
   "source": [
    "def cic_density(pars, ng, h=1):\n",
    "    '''\n",
    "    Derive density field from particle positions and masses using CIC scheme.\n",
    "    Input:\n",
    "        pars: list of Particle objects\n",
    "        ng: grid size\n",
    "        h: grid spacing\n",
    "    Output:\n",
    "        rho: density field\n",
    "    \n",
    "    '''\n",
    "    rho = np.zeros((ng, ng, ng)) # initialize density field\n",
    "    for par in pars:\n",
    "        pos = par.pos\n",
    "        pos_float = pos / h - 0.5   # floating point index\n",
    "        pos_floor = np.floor(pos_float).astype(int) # floor of floating point index\n",
    "        pos_cel = pos_floor + 1 # ceiling of floating point index\n",
    "        pos_star = pos_float - pos_floor # distance from floor\n",
    "        for idx_shift in [[x, y, z] for x in range(2) for y in range(2) for z in range(2)]: # Density change: loop over 8 cells\n",
    "            rho_idx = pos_cel - idx_shift\n",
    "            rho_idx = np.where(rho_idx != ng, rho_idx, 0)\n",
    "            rho[rho_idx[0], rho_idx[1], rho_idx[2]] += np.multiply.reduce(np.where(idx_shift, 1-pos_star, pos_star)) * par.mass / (h ** 3)\n",
    "    return rho"
   ]
  },
  {
   "cell_type": "code",
   "execution_count": 10,
   "metadata": {},
   "outputs": [],
   "source": [
    "rho = cic_density(pars=par_list, ng=256, h=1)"
   ]
  },
  {
   "cell_type": "code",
   "execution_count": 11,
   "metadata": {},
   "outputs": [
    {
     "data": {
      "text/plain": [
       "0.5975183894190806"
      ]
     },
     "execution_count": 11,
     "metadata": {},
     "output_type": "execute_result"
    }
   ],
   "source": [
    "rho.max()"
   ]
  },
  {
   "cell_type": "code",
   "execution_count": null,
   "metadata": {},
   "outputs": [],
   "source": []
  },
  {
   "attachments": {},
   "cell_type": "markdown",
   "metadata": {},
   "source": [
    "# Gravitional Potential from Density Field"
   ]
  },
  {
   "cell_type": "code",
   "execution_count": 12,
   "metadata": {},
   "outputs": [],
   "source": [
    "# Define constants\n",
    "# G = 6.67430e-11  # Gravitational constant\n",
    "G = 1\n",
    "# Apply periodic boundary conditions\n",
    "rho_pbc = np.pad(rho, ((1, 1), (1, 1), (1, 1)), mode='wrap')"
   ]
  },
  {
   "cell_type": "code",
   "execution_count": 13,
   "metadata": {},
   "outputs": [],
   "source": [
    "# Calculate Fourier transform of density data with periodic boundary conditions\n",
    "density_fft = np.fft.fftn(rho_pbc, axes=(0, 1, 2), norm='ortho')\n",
    "\n",
    "# Multiply Fourier transform by factor of 4πGρ\n",
    "gravity_fft = 4 * np.pi * G * rho_pbc * density_fft\n",
    "\n",
    "# Calculate inverse Fourier transform of gravity data with periodic boundary conditions\n",
    "gravity_pbc = np.real(np.fft.ifftn(gravity_fft, axes=(0, 1, 2), norm='ortho'))\n",
    "\n",
    "# Remove padding from gravity data\n",
    "gravity = gravity_pbc[1:-1, 1:-1, 1:-1]"
   ]
  },
  {
   "cell_type": "code",
   "execution_count": 14,
   "metadata": {},
   "outputs": [
    {
     "data": {
      "text/plain": [
       "(256, 256, 256)"
      ]
     },
     "execution_count": 14,
     "metadata": {},
     "output_type": "execute_result"
    }
   ],
   "source": [
    "gravity.shape"
   ]
  },
  {
   "cell_type": "code",
   "execution_count": null,
   "metadata": {},
   "outputs": [],
   "source": []
  },
  {
   "attachments": {},
   "cell_type": "markdown",
   "metadata": {},
   "source": [
    "# Acceleration Field from Gravitational Potential"
   ]
  },
  {
   "cell_type": "code",
   "execution_count": 15,
   "metadata": {},
   "outputs": [],
   "source": [
    "acc_x_pbc, acc_y_pbc, acc_z_pbc = np.gradient(gravity_pbc, 1, edge_order=1)"
   ]
  },
  {
   "cell_type": "code",
   "execution_count": 16,
   "metadata": {},
   "outputs": [],
   "source": [
    "acc_x, acc_y, acc_z = -1 * acc_x_pbc[1:-1, 1:-1, 1:-1], -1 * acc_y_pbc[1:-1, 1:-1, 1:-1], -1 * acc_z_pbc[1:-1, 1:-1, 1:-1]"
   ]
  },
  {
   "cell_type": "code",
   "execution_count": 19,
   "metadata": {},
   "outputs": [
    {
     "data": {
      "text/plain": [
       "(1.7287068689318924e-05, -1.740813027000582e-05)"
      ]
     },
     "execution_count": 19,
     "metadata": {},
     "output_type": "execute_result"
    }
   ],
   "source": [
    "acc_x.max(), acc_x.min()"
   ]
  },
  {
   "cell_type": "code",
   "execution_count": null,
   "metadata": {},
   "outputs": [],
   "source": [
    "def cic_acceleration(pars, ng, h=1):"
   ]
  },
  {
   "cell_type": "code",
   "execution_count": null,
   "metadata": {},
   "outputs": [],
   "source": []
  },
  {
   "cell_type": "code",
   "execution_count": null,
   "metadata": {},
   "outputs": [],
   "source": []
  },
  {
   "cell_type": "code",
   "execution_count": null,
   "metadata": {},
   "outputs": [],
   "source": []
  }
 ],
 "metadata": {
  "kernelspec": {
   "display_name": "py311",
   "language": "python",
   "name": "python3"
  },
  "language_info": {
   "codemirror_mode": {
    "name": "ipython",
    "version": 3
   },
   "file_extension": ".py",
   "mimetype": "text/x-python",
   "name": "python",
   "nbconvert_exporter": "python",
   "pygments_lexer": "ipython3",
   "version": "3.11.4"
  },
  "orig_nbformat": 4
 },
 "nbformat": 4,
 "nbformat_minor": 2
}
